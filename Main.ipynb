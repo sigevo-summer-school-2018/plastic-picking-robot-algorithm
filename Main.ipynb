{
 "cells": [
  {
   "cell_type": "code",
   "execution_count": 1,
   "metadata": {},
   "outputs": [
    {
     "name": "stdout",
     "output_type": "stream",
     "text": [
      "Importing Jupyter notebook from Environment.ipynb\n",
      "Importing Jupyter notebook from Robot_wandering_algorithm.ipynb\n"
     ]
    }
   ],
   "source": [
    "import nbimporter\n",
    "\n",
    "import numpy as np\n",
    "import pandas as pd\n",
    "from Environment import Environment\n",
    "from Environment import wind_blowing_mech\n",
    "from Robot_wandering_algorithm import get_reward\n",
    "from Robot_wandering_algorithm import robot_movement"
   ]
  },
  {
   "cell_type": "code",
   "execution_count": 2,
   "metadata": {},
   "outputs": [
    {
     "name": "stdout",
     "output_type": "stream",
     "text": [
      "rubbish:\n",
      "   0  1  2\n",
      "0  4  1  3\n",
      "1  3  4  1\n",
      "2  0  1  2\n",
      "sea_creature:\n",
      "   0  1  2\n",
      "0  2  0  2\n",
      "1  0  0  0\n",
      "2  0  2  2\n",
      "   location_x  location_y  rubbish  sea_creatures\n",
      "0           0           0        4              2\n",
      "1           0           1        1              0\n",
      "2           0           2        3              2\n",
      "3           1           0        3              0\n",
      "4           1           1        4              0\n",
      "5           1           2        1              0\n",
      "6           2           0        0              0\n",
      "7           2           1        1              2\n",
      "8           2           2        2              2\n"
     ]
    }
   ],
   "source": [
    "## Initialization: Creation of the Environment where n represent nxn grid\n",
    "n = 3\n",
    "wind_prob = 0.2\n",
    "df = Environment(n)"
   ]
  },
  {
   "cell_type": "code",
   "execution_count": 3,
   "metadata": {},
   "outputs": [
    {
     "name": "stdout",
     "output_type": "stream",
     "text": [
      "1\n"
     ]
    }
   ],
   "source": [
    "#starting point on grid for robot (middle if possible)\n",
    "t = 0\n",
    "x = int(n/2)\n",
    "y = x\n",
    "reward = 0\n",
    "\n",
    "reward = get_reward(x,y,n,df,reward)"
   ]
  },
  {
   "cell_type": "code",
   "execution_count": 4,
   "metadata": {},
   "outputs": [
    {
     "name": "stdout",
     "output_type": "stream",
     "text": [
      "no wind!\n",
      "left\n",
      "0 1\n",
      "2\n",
      "no wind!\n",
      "down\n",
      "0 2\n",
      "2\n",
      "Blow Wind Blow!\n",
      "right!\n",
      "   location_x  location_y  rubbish  sea_creatures\n",
      "0           0           0        0              2\n",
      "1           0           1        4              0\n",
      "2           0           2        4              2\n",
      "3           1           0        0              0\n",
      "4           1           1        3              0\n",
      "5           1           2        5              0\n",
      "6           2           0        0              0\n",
      "7           2           1        0              2\n",
      "8           2           2        3              2\n",
      "Robot remains\n",
      "0 2\n",
      "2\n",
      "no wind!\n",
      "right\n",
      "1 2\n",
      "2\n",
      "no wind!\n",
      "left\n",
      "0 2\n",
      "2\n",
      "no wind!\n",
      "Robot remains\n",
      "0 2\n",
      "2\n",
      "no wind!\n",
      "up\n",
      "0 1\n",
      "2\n",
      "no wind!\n",
      "up\n",
      "0 0\n",
      "1\n",
      "no wind!\n",
      "right\n",
      "1 0\n",
      "2\n",
      "no wind!\n",
      "down\n",
      "1 1\n",
      "3\n",
      "no wind!\n",
      "up\n",
      "1 0\n",
      "4\n",
      "no wind!\n",
      "right\n",
      "2 0\n",
      "7\n"
     ]
    }
   ],
   "source": [
    "#episode\n",
    "while reward < 5:\n",
    "    t = t+1\n",
    "    #wind blowing\n",
    "    df = wind_blowing_mech(wind_prob, n, df)\n",
    "    #robot movement\n",
    "    [x,y]=robot_movement(x,y,n)\n",
    "    reward = get_reward(x,y,n,df,reward)\n",
    "    #store reward into model??"
   ]
  },
  {
   "cell_type": "code",
   "execution_count": null,
   "metadata": {},
   "outputs": [],
   "source": []
  },
  {
   "cell_type": "code",
   "execution_count": null,
   "metadata": {},
   "outputs": [],
   "source": []
  }
 ],
 "metadata": {
  "kernelspec": {
   "display_name": "Python 2",
   "language": "python",
   "name": "python2"
  },
  "language_info": {
   "codemirror_mode": {
    "name": "ipython",
    "version": 2
   },
   "file_extension": ".py",
   "mimetype": "text/x-python",
   "name": "python",
   "nbconvert_exporter": "python",
   "pygments_lexer": "ipython2",
   "version": "2.7.14"
  }
 },
 "nbformat": 4,
 "nbformat_minor": 2
}
