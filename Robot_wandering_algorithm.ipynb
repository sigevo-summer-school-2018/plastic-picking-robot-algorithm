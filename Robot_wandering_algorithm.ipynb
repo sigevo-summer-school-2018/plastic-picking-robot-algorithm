{
 "cells": [
  {
   "cell_type": "code",
   "execution_count": 1,
   "metadata": {},
   "outputs": [],
   "source": [
    "def get_reward(x,y,n,df,reward):\n",
    "    if df.rubbish[y*n + x]>0:\n",
    "        if df.sea_creatures[y*n +x]>0:\n",
    "            reward = reward + 3 #gets bigger reward if rubbish found near sea creature\n",
    "        else:\n",
    "            reward = reward + 1 #gets reward for finding rubbish\n",
    "    elif df.sea_creatures[y*n]>0:\n",
    "        reward = reward -1 #gets penalized for only finding sea creatures\n",
    "\n",
    "    print reward\n",
    "    return reward"
   ]
  },
  {
   "cell_type": "code",
   "execution_count": 2,
   "metadata": {},
   "outputs": [],
   "source": [
    "def robot_movement(x,y,n):\n",
    "    import numpy as np\n",
    "    #robot movement\n",
    "    robot_dir_prob = np.random.rand()\n",
    "    if robot_dir_prob < 0.25 and x > 0: # x>0 ensure move is feasible \n",
    "        #robot moves left\n",
    "        print \"left\"\n",
    "        x = x-1\n",
    "    elif robot_dir_prob < 0.5 and y > 0: # y>0 ensure move is feasible \n",
    "        #robot moves up\n",
    "        print \"up\"\n",
    "        y = y-1\n",
    "    elif robot_dir_prob < 0.75 and x < (n-1): # x<(n-1) ensure move is feasible \n",
    "        #robot moves right\n",
    "        print \"right\"\n",
    "        x = x+1\n",
    "    elif robot_dir_prob < 1 and y <(n-1):# y<(n-1) ensure move is feasible \n",
    "        # robot moves down\n",
    "        print \"down\"\n",
    "        y = y+1\n",
    "    else:\n",
    "        print \"Robot remains\"\n",
    "\n",
    "    print x,y\n",
    "    return x,y"
   ]
  }
 ],
 "metadata": {
  "kernelspec": {
   "display_name": "Python 2",
   "language": "python",
   "name": "python2"
  },
  "language_info": {
   "codemirror_mode": {
    "name": "ipython",
    "version": 2
   },
   "file_extension": ".py",
   "mimetype": "text/x-python",
   "name": "python",
   "nbconvert_exporter": "python",
   "pygments_lexer": "ipython2",
   "version": "2.7.14"
  }
 },
 "nbformat": 4,
 "nbformat_minor": 2
}
