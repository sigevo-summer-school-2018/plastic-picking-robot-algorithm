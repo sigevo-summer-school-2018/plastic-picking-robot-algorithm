{
 "cells": [
  {
   "cell_type": "code",
   "execution_count": 3,
   "metadata": {},
   "outputs": [],
   "source": [
    "import numpy as np\n",
    "import pandas as pd"
   ]
  },
  {
   "cell_type": "code",
   "execution_count": 4,
   "metadata": {
    "scrolled": true
   },
   "outputs": [
    {
     "name": "stdout",
     "output_type": "stream",
     "text": [
      "   0  1  2\n",
      "0  4  1  3\n",
      "1  3  4  1\n",
      "2  0  1  2\n"
     ]
    }
   ],
   "source": [
    "##Random initialization of rubbish in a sea grid\n",
    "np.random.seed(7) #for reproducible results\n",
    "n = 3 #no. of dimensions for grid\n",
    "rubbish_initialization = np.random.randint(0, 5, size=(n, n))\n",
    "#print pd.DataFrame(np.reshape(np.asarray(rubbish_initialization), (25,1)),columns=['rubbish'])\n",
    "sea_grid = pd.DataFrame(rubbish_initialization)\n",
    "print sea_grid\n",
    "#print np.reshape(np.asarray(rubbish_initialization), (25,1))"
   ]
  },
  {
   "cell_type": "code",
   "execution_count": 19,
   "metadata": {},
   "outputs": [
    {
     "name": "stdout",
     "output_type": "stream",
     "text": [
      "   location_x  location_y  rubbish\n",
      "0           0           0        4\n",
      "1           0           1        1\n",
      "2           0           2        3\n",
      "3           1           0        3\n",
      "4           1           1        4\n",
      "5           1           2        1\n",
      "6           2           0        0\n",
      "7           2           1        1\n",
      "8           2           2        2\n"
     ]
    }
   ],
   "source": [
    "##Storing dataset in pandas framework\n",
    "#Getting list of x and y for location point storage\n",
    "x = [0] *n\n",
    "for i in range (1,n):\n",
    "    x1 = [i]*n\n",
    "    x = np.concatenate((x,x1), axis=0)\n",
    "#print x\n",
    "\n",
    "y1 = np.arange(n)\n",
    "y = y1\n",
    "for i in range(1,n):\n",
    "    y = np.concatenate((y,y1), axis=0)\n",
    "#print y\n",
    "    \n",
    "location = {'location_x': x, 'location_y': y}\n",
    "df1 = pd.DataFrame(data=location)\n",
    "#print df1\n",
    "df2 = pd.DataFrame(np.reshape(np.asarray(rubbish_initialization), (n*n,1)),columns=['rubbish'])\n",
    "#print df2\n",
    "df = df1.join(df2)\n",
    "print df"
   ]
  },
  {
   "cell_type": "code",
   "execution_count": 21,
   "metadata": {},
   "outputs": [
    {
     "name": "stdout",
     "output_type": "stream",
     "text": [
      "Blow Wind Blow!\n",
      "right!\n",
      "0\n",
      "j= 0\n",
      "rubbish= 0\n",
      "j= 3\n",
      "rubbish= 0\n",
      "j= 6\n",
      "rubbish= 7\n",
      "j= 1\n",
      "rubbish= 0\n",
      "j= 4\n",
      "rubbish= 0\n",
      "j= 7\n",
      "rubbish= 6\n",
      "j= 2\n",
      "rubbish= 0\n",
      "j= 5\n",
      "rubbish= 0\n",
      "j= 8\n",
      "rubbish= 6\n",
      "   location_x  location_y  rubbish\n",
      "0           0           0        0\n",
      "1           0           1        0\n",
      "2           0           2        0\n",
      "3           1           0        0\n",
      "4           1           1        0\n",
      "5           1           2        0\n",
      "6           2           0        7\n",
      "7           2           1        6\n",
      "8           2           2        6\n"
     ]
    }
   ],
   "source": [
    "##Wind blowing Mechanism\n",
    "#50 percent chance of wind belowing\n",
    "wind_prob = np.random.rand()\n",
    "if wind_prob > 0:\n",
    "    print \"Blow Wind Blow!\"\n",
    "    #Equal chance of Wind Blowing in four directions: left,up,right,down \n",
    "    wind_dir_prob = np.random.rand()\n",
    "    if  wind_dir_prob < 0.25:\n",
    "        wind_dir = 'left'\n",
    "    elif wind_dir_prob < 0.5:\n",
    "        wind_dir = 'up'\n",
    "    elif wind_dir_prob <0.75:\n",
    "        wind_dir = 'right'\n",
    "    else:\n",
    "        wind_dir = 'down'\n",
    "    \n",
    "    wind_dir = 'right'\n",
    "    #Wind Blows Rubbish a square to the the direction of wind, rubbish gets collated if it is at the bounds\n",
    "    if wind_dir == 'left':\n",
    "        print 'left!'\n",
    "        temp = df.copy()\n",
    "        for i in range(n):\n",
    "            for j in range(i,n*n,n):\n",
    "                if j < n:\n",
    "                    df.rubbish[j] = df.rubbish[j] + temp.rubbish[j+n]\n",
    "                elif j > ((n-1)*n-1):\n",
    "                    df.rubbish[j] = 0           #most right column\n",
    "                else:\n",
    "                    df.rubbish[j] = temp.rubbish[j+n]\n",
    "        print df\n",
    "    if wind_dir == 'right':\n",
    "        print 'right!'\n",
    "        temp = df.copy()\n",
    "        print temp.rubbish[0]\n",
    "        for i in range(n):\n",
    "            for j in range(i,n*n,n):\n",
    "                print \"j=\",j\n",
    "                if j < n:\n",
    "                    df.rubbish[j] = 0            #most left column\n",
    "                elif j > ((n-1)*n-1):\n",
    "                    df.rubbish[j] = df.rubbish[j] + temp.rubbish[j-n]\n",
    "                else:\n",
    "                    df.rubbish[j] = temp.rubbish[j-n]\n",
    "                print 'rubbish=', df.rubbish[j]\n",
    "        print df\n",
    "        \n",
    "    if wind_dir == 'up':\n",
    "        print 'ahh'\n",
    "        \n",
    "        \n",
    "    if wind_dir == 'down':\n",
    "        print 'mehh'\n",
    "      \n",
    "\n",
    "        \n",
    "    \n",
    "            "
   ]
  },
  {
   "cell_type": "code",
   "execution_count": null,
   "metadata": {},
   "outputs": [],
   "source": []
  }
 ],
 "metadata": {
  "kernelspec": {
   "display_name": "Python 2",
   "language": "python",
   "name": "python2"
  },
  "language_info": {
   "codemirror_mode": {
    "name": "ipython",
    "version": 2
   },
   "file_extension": ".py",
   "mimetype": "text/x-python",
   "name": "python",
   "nbconvert_exporter": "python",
   "pygments_lexer": "ipython2",
   "version": "2.7.14"
  }
 },
 "nbformat": 4,
 "nbformat_minor": 2
}
