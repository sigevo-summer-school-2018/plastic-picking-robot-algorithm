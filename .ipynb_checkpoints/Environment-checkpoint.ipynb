{
 "cells": [
  {
   "cell_type": "code",
   "execution_count": 3,
   "metadata": {},
   "outputs": [],
   "source": [
    "import numpy as np\n",
    "import pandas as pd"
   ]
  },
  {
   "cell_type": "code",
   "execution_count": 4,
   "metadata": {},
   "outputs": [
    {
     "name": "stdout",
     "output_type": "stream",
     "text": [
      "   0  1  2  3  4\n",
      "0  2  2  1  1  1\n",
      "1  4  1  0  3  1\n",
      "2  1  4  3  2  2\n",
      "3  3  1  4  4  4\n",
      "4  1  1  3  2  0\n"
     ]
    }
   ],
   "source": [
    "##Random initialization of rubbish in a sea grid\n",
    "rubbish_initialization = np.random.randint(0, 5, size=(5, 5))\n",
    "#print pd.DataFrame(np.reshape(np.asarray(rubbish_initialization), (25,1)),columns=['rubbish'])\n",
    "sea_grid = pd.DataFrame(rubbish_initialization, columns=['0', '1', '2', '3', '4'])\n",
    "print sea_grid\n",
    "#print np.reshape(np.asarray(rubbish_initialization), (25,1))"
   ]
  },
  {
   "cell_type": "code",
   "execution_count": 6,
   "metadata": {},
   "outputs": [
    {
     "name": "stdout",
     "output_type": "stream",
     "text": [
      "    location x  location y  rubbish\n",
      "0            0           0        2\n",
      "1            0           1        2\n",
      "2            0           2        1\n",
      "3            0           3        1\n",
      "4            0           4        1\n",
      "5            1           0        4\n",
      "6            1           1        1\n",
      "7            1           2        0\n",
      "8            1           3        3\n",
      "9            1           4        1\n",
      "10           2           0        1\n",
      "11           2           1        4\n",
      "12           2           2        3\n",
      "13           2           3        2\n",
      "14           2           4        2\n",
      "15           3           0        3\n",
      "16           3           1        1\n",
      "17           3           2        4\n",
      "18           3           3        4\n",
      "19           3           4        4\n",
      "20           4           0        1\n",
      "21           4           1        1\n",
      "22           4           2        3\n",
      "23           4           3        2\n",
      "24           4           4        0\n"
     ]
    }
   ],
   "source": [
    "##Storing dataset in pandas framework \n",
    "location = {'location x': [0,0,0,0,0,1,1,1,1,1,2,2,2,2,2,3,3,3,3,3,4,4,4,4,4], 'location y': [0,1,2,3,4,0,1,2,3,4,0,1,2,3,4,0,1,2,3,4,0,1,2,3,4]}\n",
    "df1 = pd.DataFrame(data=location)\n",
    "#print df1\n",
    "df2 = pd.DataFrame(np.reshape(np.asarray(rubbish_initialization), (25,1)),columns=['rubbish'])\n",
    "#print df2\n",
    "df = df1.join(df2)\n",
    "print df"
   ]
  },
  {
   "cell_type": "code",
   "execution_count": 8,
   "metadata": {},
   "outputs": [],
   "source": [
    "##Wind blowing Algorithm\n",
    "prob= np.random.rand()"
   ]
  },
  {
   "cell_type": "code",
   "execution_count": null,
   "metadata": {},
   "outputs": [],
   "source": []
  }
 ],
 "metadata": {
  "kernelspec": {
   "display_name": "Python 2",
   "language": "python",
   "name": "python2"
  },
  "language_info": {
   "codemirror_mode": {
    "name": "ipython",
    "version": 2
   },
   "file_extension": ".py",
   "mimetype": "text/x-python",
   "name": "python",
   "nbconvert_exporter": "python",
   "pygments_lexer": "ipython2",
   "version": "2.7.14"
  }
 },
 "nbformat": 4,
 "nbformat_minor": 2
}
